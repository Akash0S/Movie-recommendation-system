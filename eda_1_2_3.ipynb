{
  "cells": [
    {
      "cell_type": "markdown",
      "metadata": {
        "id": "fPZHkDH2RDc5"
      },
      "source": [
        "### **Problem** - Which industry is predicted to have the highest growth of releases in 5 years? which will have the largest decline."
      ]
    },
    {
      "cell_type": "markdown",
      "metadata": {
        "id": "jl4wcySGRSiO"
      },
      "source": [
        "# Exploratory data Analysis"
      ]
    },
    {
      "cell_type": "markdown",
      "metadata": {
        "id": "lSTDzMNtj1i7"
      },
      "source": [
        "# **Data explanation**\n",
        "### **What NPRI is ?** **Dataset understanding** ?\n",
        "NPRI is the National Pollutant Release Inventory in Canada which tracks over 300 pollutants from over 7,000 facilities across Canada.\n",
        "\n",
        "We have dataset provided by NPRI (National Pollutant Release Inventory) which shows the amount of realeses by different industries from the year 2014 to 2022. moreover, the name of the companies and the type of industries corresponding to the type of realeses they are producing as well as the Province where each industry and company is located."
      ]
    },
    {
      "cell_type": "markdown",
      "metadata": {
        "id": "jfxDp4dT1M9r"
      },
      "source": [
        "Loading the NPRI dataset using pandas(used for dataframes) library."
      ]
    },
    {
      "cell_type": "code",
      "execution_count": 957,
      "metadata": {
        "colab": {
          "base_uri": "https://localhost:8080/"
        },
        "id": "Xw23riwFPN2p",
        "outputId": "b03fcb03-12b4-49ef-e233-395bd12324fe"
      },
      "outputs": [
        {
          "output_type": "stream",
          "name": "stderr",
          "text": [
            "<ipython-input-957-50574718b5ed>:2: DtypeWarning:\n",
            "\n",
            "Columns (16) have mixed types. Specify dtype option on import or set low_memory=False.\n",
            "\n"
          ]
        }
      ],
      "source": [
        "import pandas as pd\n",
        "df1 = pd.read_csv(\"Npri1.csv\")\n"
      ]
    },
    {
      "cell_type": "markdown",
      "metadata": {
        "id": "lbtjwRTS1m5N"
      },
      "source": [
        "Checking the structure of the dataset\n",
        "\n",
        "*   Shape( ) - used to check the number of rows and columns in the dataset."
      ]
    },
    {
      "cell_type": "code",
      "execution_count": 958,
      "metadata": {
        "colab": {
          "base_uri": "https://localhost:8080/"
        },
        "id": "oXZEQ_ZvzamT",
        "outputId": "e87c8fda-cd10-4cfc-d8e9-42dc85a8704b"
      },
      "outputs": [
        {
          "output_type": "execute_result",
          "data": {
            "text/plain": [
              "(537550, 18)"
            ]
          },
          "metadata": {},
          "execution_count": 958
        }
      ],
      "source": [
        "df1.shape"
      ]
    },
    {
      "cell_type": "markdown",
      "metadata": {
        "id": "MPqtjAU52vGB"
      },
      "source": [
        "We have 537550 rows and 18 columns"
      ]
    },
    {
      "cell_type": "markdown",
      "metadata": {
        "id": "UU-sihjmu-tc"
      },
      "source": [
        "# Dataset Features\n",
        "\n",
        "\n",
        "1.   **NpriID**: NPRI Identification Number.\n",
        "2.   **Company Name**: Name of the company.\n",
        "3.   **FacilityName**: Facility Name.\n",
        "4.   **NPRI_Report_ReportYear**: Reporting year.\n",
        "5.   **Quantity**: Quantity.\n",
        "6.   **Cas**: Chemical Abstracts Service number.\n",
        "7.   **Detail_NPRI_Substanceinfo_NameEn**: Substance name.\n",
        "8.   **Group**: Describes the types of substance report. Higher level than     category.\n",
        "9.   **Category**: Describes the specific category of the substance report. These are sub-groups.\n",
        "10.   **Latitude**: Latitude.\n",
        "11.  **Longitude**: Longitude.\n",
        "12.  **ProvinceEn**: Province name.\n",
        "13.  **Detail_UnitType_NameEn**: Units.\n",
        "14.  **NAICSPrimary**: North American Industry Classification System.\n",
        "15.  **NAICSTitleEn**: NAICS english name.\n",
        "16.  **Substance comments by category**: substance comments by category.\n",
        "17.  **Substance comments for disposals and all media**: Substance comments for disposals and all all media. These comments are by group rather than category.\n",
        "18.  **Number of employees**: Number of employees in the company.\n",
        "\n",
        "\n",
        "\n",
        "\n",
        "\n",
        "\n",
        "\n"
      ]
    },
    {
      "cell_type": "markdown",
      "metadata": {
        "id": "GHpPUwVn2ih1"
      },
      "source": [
        "\n",
        "**Making a copy of the Original dataset**\n",
        "* To avoid doing changes to the original dataset."
      ]
    },
    {
      "cell_type": "code",
      "execution_count": 959,
      "metadata": {
        "colab": {
          "base_uri": "https://localhost:8080/",
          "height": 1000
        },
        "id": "gW6krNCxY7P2",
        "outputId": "c5fa3ecc-4587-49f0-8ab1-f6f30e0af7e7"
      },
      "outputs": [
        {
          "output_type": "execute_result",
          "data": {
            "text/plain": [
              "        NpriID                        Company name  \\\n",
              "0        28940          Les Planchers Mercier inc.   \n",
              "1        28940          Les Planchers Mercier inc.   \n",
              "2        28940          Les Planchers Mercier inc.   \n",
              "3        28940          Les Planchers Mercier inc.   \n",
              "4        28940          Les Planchers Mercier inc.   \n",
              "...        ...                                 ...   \n",
              "537545   33064      Deltastream Energy Corporation   \n",
              "537546   33068      Deltastream Energy Corporation   \n",
              "537547   33075      Deltastream Energy Corporation   \n",
              "537548  500352  Canadian Natural Resources Limited   \n",
              "537549  500352  Canadian Natural Resources Limited   \n",
              "\n",
              "                                    FacilityName  NPRI_Report_ReportYear  \\\n",
              "0                     Les Planchers Mercier inc.                    2021   \n",
              "1                     Les Planchers Mercier inc.                    2020   \n",
              "2                     Les Planchers Mercier inc.                    2021   \n",
              "3                     Les Planchers Mercier inc.                    2020   \n",
              "4                     Les Planchers Mercier inc.                    2021   \n",
              "...                                          ...                     ...   \n",
              "537545            Delta Nipisi 03-29-76-05w5 MWB                    2021   \n",
              "537546              Delta Canal 3-29-70-23w4 MWB                    2021   \n",
              "537547         Delta Canal 14-16-70-23w4 Pro MWB                    2021   \n",
              "537548  Wapiti Compressor Station 07-24-068-07W6                    2018   \n",
              "537549  Wapiti Compressor Station 07-24-068-07W6                    2020   \n",
              "\n",
              "        Quantity        Cas             Detail_NPRI_SubstanceInfo_NameEn  \\\n",
              "0          22.63   NA - M08                     Total particulate matter   \n",
              "1          16.67   NA - M08                     Total particulate matter   \n",
              "2          15.94   630-08-0                              Carbon monoxide   \n",
              "3          13.25   630-08-0                              Carbon monoxide   \n",
              "4          12.48   NA - M09  PM10 - Particulate Matter <= 10 Micrometers   \n",
              "...          ...        ...                                          ...   \n",
              "537545      0.00   NA - M16            Volatile Organic Compounds (VOCs)   \n",
              "537546      0.00   NA - M16            Volatile Organic Compounds (VOCs)   \n",
              "537547      0.00   NA - M16            Volatile Organic Compounds (VOCs)   \n",
              "537548      0.00  7446-09-5                              Sulphur dioxide   \n",
              "537549      0.00  7446-09-5                              Sulphur dioxide   \n",
              "\n",
              "                  Group            Category   Latitude   Longitude ProvinceEn  \\\n",
              "0       Releases to Air       Stack / Point  45.869119  -72.530779     Quebec   \n",
              "1       Releases to Air       Stack / Point  45.869119  -72.530779     Quebec   \n",
              "2       Releases to Air       Stack / Point  45.869119  -72.530779     Quebec   \n",
              "3       Releases to Air       Stack / Point  45.869119  -72.530779     Quebec   \n",
              "4       Releases to Air       Stack / Point  45.869119  -72.530779     Quebec   \n",
              "...                 ...                 ...        ...         ...        ...   \n",
              "537545  Releases to Air  Storage / Handling  55.608903 -114.744156    Alberta   \n",
              "537546  Releases to Air  Storage / Handling  55.084040 -113.478938    Alberta   \n",
              "537547  Releases to Air  Storage / Handling  55.065795 -113.453519    Alberta   \n",
              "537548  Releases to Air       Stack / Point  54.899664 -118.925345    Alberta   \n",
              "537549  Releases to Air       Stack / Point  54.899664 -118.925345    Alberta   \n",
              "\n",
              "       Detail_UnitType_NameEn  NAICSPrimary  \\\n",
              "0                      tonnes        321999   \n",
              "1                      tonnes        321999   \n",
              "2                      tonnes        321999   \n",
              "3                      tonnes        321999   \n",
              "4                      tonnes        321999   \n",
              "...                       ...           ...   \n",
              "537545                 tonnes        211110   \n",
              "537546                 tonnes        211110   \n",
              "537547                 tonnes        211110   \n",
              "537548                 tonnes        211110   \n",
              "537549                 tonnes        211110   \n",
              "\n",
              "                                             NAICSTitleEn  \\\n",
              "0       All other miscellaneous wood product manufactu...   \n",
              "1       All other miscellaneous wood product manufactu...   \n",
              "2       All other miscellaneous wood product manufactu...   \n",
              "3       All other miscellaneous wood product manufactu...   \n",
              "4       All other miscellaneous wood product manufactu...   \n",
              "...                                                   ...   \n",
              "537545          Oil and gas extraction (except oil sands)   \n",
              "537546          Oil and gas extraction (except oil sands)   \n",
              "537547          Oil and gas extraction (except oil sands)   \n",
              "537548          Oil and gas extraction (except oil sands)   \n",
              "537549          Oil and gas extraction (except oil sands)   \n",
              "\n",
              "       Substance comments by category for 2022  \\\n",
              "0                                          NaN   \n",
              "1                                          NaN   \n",
              "2                                          NaN   \n",
              "3                                          NaN   \n",
              "4                                          NaN   \n",
              "...                                        ...   \n",
              "537545                                       0   \n",
              "537546                                       0   \n",
              "537547                                       0   \n",
              "537548                                     NaN   \n",
              "537549                                       0   \n",
              "\n",
              "       Substance comments for disposals and all media for 2022  \\\n",
              "0                                                     NaN        \n",
              "1                                                     NaN        \n",
              "2                                                     NaN        \n",
              "3                                                     NaN        \n",
              "4                                                     NaN        \n",
              "...                                                   ...        \n",
              "537545                                                NaN        \n",
              "537546                                                NaN        \n",
              "537547                                                NaN        \n",
              "537548                                                NaN        \n",
              "537549                                                NaN        \n",
              "\n",
              "        Number of employees  \n",
              "0                     170.0  \n",
              "1                     170.0  \n",
              "2                     170.0  \n",
              "3                     170.0  \n",
              "4                     170.0  \n",
              "...                     ...  \n",
              "537545                  NaN  \n",
              "537546                  NaN  \n",
              "537547                  NaN  \n",
              "537548                  NaN  \n",
              "537549                  NaN  \n",
              "\n",
              "[537550 rows x 18 columns]"
            ],
            "text/html": [
              "\n",
              "  <div id=\"df-a7f0ae3f-d9e1-4ea5-9032-212bf5aeee38\" class=\"colab-df-container\">\n",
              "    <div>\n",
              "<style scoped>\n",
              "    .dataframe tbody tr th:only-of-type {\n",
              "        vertical-align: middle;\n",
              "    }\n",
              "\n",
              "    .dataframe tbody tr th {\n",
              "        vertical-align: top;\n",
              "    }\n",
              "\n",
              "    .dataframe thead th {\n",
              "        text-align: right;\n",
              "    }\n",
              "</style>\n",
              "<table border=\"1\" class=\"dataframe\">\n",
              "  <thead>\n",
              "    <tr style=\"text-align: right;\">\n",
              "      <th></th>\n",
              "      <th>NpriID</th>\n",
              "      <th>Company name</th>\n",
              "      <th>FacilityName</th>\n",
              "      <th>NPRI_Report_ReportYear</th>\n",
              "      <th>Quantity</th>\n",
              "      <th>Cas</th>\n",
              "      <th>Detail_NPRI_SubstanceInfo_NameEn</th>\n",
              "      <th>Group</th>\n",
              "      <th>Category</th>\n",
              "      <th>Latitude</th>\n",
              "      <th>Longitude</th>\n",
              "      <th>ProvinceEn</th>\n",
              "      <th>Detail_UnitType_NameEn</th>\n",
              "      <th>NAICSPrimary</th>\n",
              "      <th>NAICSTitleEn</th>\n",
              "      <th>Substance comments by category for 2022</th>\n",
              "      <th>Substance comments for disposals and all media for 2022</th>\n",
              "      <th>Number of employees</th>\n",
              "    </tr>\n",
              "  </thead>\n",
              "  <tbody>\n",
              "    <tr>\n",
              "      <th>0</th>\n",
              "      <td>28940</td>\n",
              "      <td>Les Planchers Mercier inc.</td>\n",
              "      <td>Les Planchers Mercier inc.</td>\n",
              "      <td>2021</td>\n",
              "      <td>22.63</td>\n",
              "      <td>NA - M08</td>\n",
              "      <td>Total particulate matter</td>\n",
              "      <td>Releases to Air</td>\n",
              "      <td>Stack / Point</td>\n",
              "      <td>45.869119</td>\n",
              "      <td>-72.530779</td>\n",
              "      <td>Quebec</td>\n",
              "      <td>tonnes</td>\n",
              "      <td>321999</td>\n",
              "      <td>All other miscellaneous wood product manufactu...</td>\n",
              "      <td>NaN</td>\n",
              "      <td>NaN</td>\n",
              "      <td>170.0</td>\n",
              "    </tr>\n",
              "    <tr>\n",
              "      <th>1</th>\n",
              "      <td>28940</td>\n",
              "      <td>Les Planchers Mercier inc.</td>\n",
              "      <td>Les Planchers Mercier inc.</td>\n",
              "      <td>2020</td>\n",
              "      <td>16.67</td>\n",
              "      <td>NA - M08</td>\n",
              "      <td>Total particulate matter</td>\n",
              "      <td>Releases to Air</td>\n",
              "      <td>Stack / Point</td>\n",
              "      <td>45.869119</td>\n",
              "      <td>-72.530779</td>\n",
              "      <td>Quebec</td>\n",
              "      <td>tonnes</td>\n",
              "      <td>321999</td>\n",
              "      <td>All other miscellaneous wood product manufactu...</td>\n",
              "      <td>NaN</td>\n",
              "      <td>NaN</td>\n",
              "      <td>170.0</td>\n",
              "    </tr>\n",
              "    <tr>\n",
              "      <th>2</th>\n",
              "      <td>28940</td>\n",
              "      <td>Les Planchers Mercier inc.</td>\n",
              "      <td>Les Planchers Mercier inc.</td>\n",
              "      <td>2021</td>\n",
              "      <td>15.94</td>\n",
              "      <td>630-08-0</td>\n",
              "      <td>Carbon monoxide</td>\n",
              "      <td>Releases to Air</td>\n",
              "      <td>Stack / Point</td>\n",
              "      <td>45.869119</td>\n",
              "      <td>-72.530779</td>\n",
              "      <td>Quebec</td>\n",
              "      <td>tonnes</td>\n",
              "      <td>321999</td>\n",
              "      <td>All other miscellaneous wood product manufactu...</td>\n",
              "      <td>NaN</td>\n",
              "      <td>NaN</td>\n",
              "      <td>170.0</td>\n",
              "    </tr>\n",
              "    <tr>\n",
              "      <th>3</th>\n",
              "      <td>28940</td>\n",
              "      <td>Les Planchers Mercier inc.</td>\n",
              "      <td>Les Planchers Mercier inc.</td>\n",
              "      <td>2020</td>\n",
              "      <td>13.25</td>\n",
              "      <td>630-08-0</td>\n",
              "      <td>Carbon monoxide</td>\n",
              "      <td>Releases to Air</td>\n",
              "      <td>Stack / Point</td>\n",
              "      <td>45.869119</td>\n",
              "      <td>-72.530779</td>\n",
              "      <td>Quebec</td>\n",
              "      <td>tonnes</td>\n",
              "      <td>321999</td>\n",
              "      <td>All other miscellaneous wood product manufactu...</td>\n",
              "      <td>NaN</td>\n",
              "      <td>NaN</td>\n",
              "      <td>170.0</td>\n",
              "    </tr>\n",
              "    <tr>\n",
              "      <th>4</th>\n",
              "      <td>28940</td>\n",
              "      <td>Les Planchers Mercier inc.</td>\n",
              "      <td>Les Planchers Mercier inc.</td>\n",
              "      <td>2021</td>\n",
              "      <td>12.48</td>\n",
              "      <td>NA - M09</td>\n",
              "      <td>PM10 - Particulate Matter &lt;= 10 Micrometers</td>\n",
              "      <td>Releases to Air</td>\n",
              "      <td>Stack / Point</td>\n",
              "      <td>45.869119</td>\n",
              "      <td>-72.530779</td>\n",
              "      <td>Quebec</td>\n",
              "      <td>tonnes</td>\n",
              "      <td>321999</td>\n",
              "      <td>All other miscellaneous wood product manufactu...</td>\n",
              "      <td>NaN</td>\n",
              "      <td>NaN</td>\n",
              "      <td>170.0</td>\n",
              "    </tr>\n",
              "    <tr>\n",
              "      <th>...</th>\n",
              "      <td>...</td>\n",
              "      <td>...</td>\n",
              "      <td>...</td>\n",
              "      <td>...</td>\n",
              "      <td>...</td>\n",
              "      <td>...</td>\n",
              "      <td>...</td>\n",
              "      <td>...</td>\n",
              "      <td>...</td>\n",
              "      <td>...</td>\n",
              "      <td>...</td>\n",
              "      <td>...</td>\n",
              "      <td>...</td>\n",
              "      <td>...</td>\n",
              "      <td>...</td>\n",
              "      <td>...</td>\n",
              "      <td>...</td>\n",
              "      <td>...</td>\n",
              "    </tr>\n",
              "    <tr>\n",
              "      <th>537545</th>\n",
              "      <td>33064</td>\n",
              "      <td>Deltastream Energy Corporation</td>\n",
              "      <td>Delta Nipisi 03-29-76-05w5 MWB</td>\n",
              "      <td>2021</td>\n",
              "      <td>0.00</td>\n",
              "      <td>NA - M16</td>\n",
              "      <td>Volatile Organic Compounds (VOCs)</td>\n",
              "      <td>Releases to Air</td>\n",
              "      <td>Storage / Handling</td>\n",
              "      <td>55.608903</td>\n",
              "      <td>-114.744156</td>\n",
              "      <td>Alberta</td>\n",
              "      <td>tonnes</td>\n",
              "      <td>211110</td>\n",
              "      <td>Oil and gas extraction (except oil sands)</td>\n",
              "      <td>0</td>\n",
              "      <td>NaN</td>\n",
              "      <td>NaN</td>\n",
              "    </tr>\n",
              "    <tr>\n",
              "      <th>537546</th>\n",
              "      <td>33068</td>\n",
              "      <td>Deltastream Energy Corporation</td>\n",
              "      <td>Delta Canal 3-29-70-23w4 MWB</td>\n",
              "      <td>2021</td>\n",
              "      <td>0.00</td>\n",
              "      <td>NA - M16</td>\n",
              "      <td>Volatile Organic Compounds (VOCs)</td>\n",
              "      <td>Releases to Air</td>\n",
              "      <td>Storage / Handling</td>\n",
              "      <td>55.084040</td>\n",
              "      <td>-113.478938</td>\n",
              "      <td>Alberta</td>\n",
              "      <td>tonnes</td>\n",
              "      <td>211110</td>\n",
              "      <td>Oil and gas extraction (except oil sands)</td>\n",
              "      <td>0</td>\n",
              "      <td>NaN</td>\n",
              "      <td>NaN</td>\n",
              "    </tr>\n",
              "    <tr>\n",
              "      <th>537547</th>\n",
              "      <td>33075</td>\n",
              "      <td>Deltastream Energy Corporation</td>\n",
              "      <td>Delta Canal 14-16-70-23w4 Pro MWB</td>\n",
              "      <td>2021</td>\n",
              "      <td>0.00</td>\n",
              "      <td>NA - M16</td>\n",
              "      <td>Volatile Organic Compounds (VOCs)</td>\n",
              "      <td>Releases to Air</td>\n",
              "      <td>Storage / Handling</td>\n",
              "      <td>55.065795</td>\n",
              "      <td>-113.453519</td>\n",
              "      <td>Alberta</td>\n",
              "      <td>tonnes</td>\n",
              "      <td>211110</td>\n",
              "      <td>Oil and gas extraction (except oil sands)</td>\n",
              "      <td>0</td>\n",
              "      <td>NaN</td>\n",
              "      <td>NaN</td>\n",
              "    </tr>\n",
              "    <tr>\n",
              "      <th>537548</th>\n",
              "      <td>500352</td>\n",
              "      <td>Canadian Natural Resources Limited</td>\n",
              "      <td>Wapiti Compressor Station 07-24-068-07W6</td>\n",
              "      <td>2018</td>\n",
              "      <td>0.00</td>\n",
              "      <td>7446-09-5</td>\n",
              "      <td>Sulphur dioxide</td>\n",
              "      <td>Releases to Air</td>\n",
              "      <td>Stack / Point</td>\n",
              "      <td>54.899664</td>\n",
              "      <td>-118.925345</td>\n",
              "      <td>Alberta</td>\n",
              "      <td>tonnes</td>\n",
              "      <td>211110</td>\n",
              "      <td>Oil and gas extraction (except oil sands)</td>\n",
              "      <td>NaN</td>\n",
              "      <td>NaN</td>\n",
              "      <td>NaN</td>\n",
              "    </tr>\n",
              "    <tr>\n",
              "      <th>537549</th>\n",
              "      <td>500352</td>\n",
              "      <td>Canadian Natural Resources Limited</td>\n",
              "      <td>Wapiti Compressor Station 07-24-068-07W6</td>\n",
              "      <td>2020</td>\n",
              "      <td>0.00</td>\n",
              "      <td>7446-09-5</td>\n",
              "      <td>Sulphur dioxide</td>\n",
              "      <td>Releases to Air</td>\n",
              "      <td>Stack / Point</td>\n",
              "      <td>54.899664</td>\n",
              "      <td>-118.925345</td>\n",
              "      <td>Alberta</td>\n",
              "      <td>tonnes</td>\n",
              "      <td>211110</td>\n",
              "      <td>Oil and gas extraction (except oil sands)</td>\n",
              "      <td>0</td>\n",
              "      <td>NaN</td>\n",
              "      <td>NaN</td>\n",
              "    </tr>\n",
              "  </tbody>\n",
              "</table>\n",
              "<p>537550 rows × 18 columns</p>\n",
              "</div>\n",
              "    <div class=\"colab-df-buttons\">\n",
              "\n",
              "  <div class=\"colab-df-container\">\n",
              "    <button class=\"colab-df-convert\" onclick=\"convertToInteractive('df-a7f0ae3f-d9e1-4ea5-9032-212bf5aeee38')\"\n",
              "            title=\"Convert this dataframe to an interactive table.\"\n",
              "            style=\"display:none;\">\n",
              "\n",
              "  <svg xmlns=\"http://www.w3.org/2000/svg\" height=\"24px\" viewBox=\"0 -960 960 960\">\n",
              "    <path d=\"M120-120v-720h720v720H120Zm60-500h600v-160H180v160Zm220 220h160v-160H400v160Zm0 220h160v-160H400v160ZM180-400h160v-160H180v160Zm440 0h160v-160H620v160ZM180-180h160v-160H180v160Zm440 0h160v-160H620v160Z\"/>\n",
              "  </svg>\n",
              "    </button>\n",
              "\n",
              "  <style>\n",
              "    .colab-df-container {\n",
              "      display:flex;\n",
              "      gap: 12px;\n",
              "    }\n",
              "\n",
              "    .colab-df-convert {\n",
              "      background-color: #E8F0FE;\n",
              "      border: none;\n",
              "      border-radius: 50%;\n",
              "      cursor: pointer;\n",
              "      display: none;\n",
              "      fill: #1967D2;\n",
              "      height: 32px;\n",
              "      padding: 0 0 0 0;\n",
              "      width: 32px;\n",
              "    }\n",
              "\n",
              "    .colab-df-convert:hover {\n",
              "      background-color: #E2EBFA;\n",
              "      box-shadow: 0px 1px 2px rgba(60, 64, 67, 0.3), 0px 1px 3px 1px rgba(60, 64, 67, 0.15);\n",
              "      fill: #174EA6;\n",
              "    }\n",
              "\n",
              "    .colab-df-buttons div {\n",
              "      margin-bottom: 4px;\n",
              "    }\n",
              "\n",
              "    [theme=dark] .colab-df-convert {\n",
              "      background-color: #3B4455;\n",
              "      fill: #D2E3FC;\n",
              "    }\n",
              "\n",
              "    [theme=dark] .colab-df-convert:hover {\n",
              "      background-color: #434B5C;\n",
              "      box-shadow: 0px 1px 3px 1px rgba(0, 0, 0, 0.15);\n",
              "      filter: drop-shadow(0px 1px 2px rgba(0, 0, 0, 0.3));\n",
              "      fill: #FFFFFF;\n",
              "    }\n",
              "  </style>\n",
              "\n",
              "    <script>\n",
              "      const buttonEl =\n",
              "        document.querySelector('#df-a7f0ae3f-d9e1-4ea5-9032-212bf5aeee38 button.colab-df-convert');\n",
              "      buttonEl.style.display =\n",
              "        google.colab.kernel.accessAllowed ? 'block' : 'none';\n",
              "\n",
              "      async function convertToInteractive(key) {\n",
              "        const element = document.querySelector('#df-a7f0ae3f-d9e1-4ea5-9032-212bf5aeee38');\n",
              "        const dataTable =\n",
              "          await google.colab.kernel.invokeFunction('convertToInteractive',\n",
              "                                                    [key], {});\n",
              "        if (!dataTable) return;\n",
              "\n",
              "        const docLinkHtml = 'Like what you see? Visit the ' +\n",
              "          '<a target=\"_blank\" href=https://colab.research.google.com/notebooks/data_table.ipynb>data table notebook</a>'\n",
              "          + ' to learn more about interactive tables.';\n",
              "        element.innerHTML = '';\n",
              "        dataTable['output_type'] = 'display_data';\n",
              "        await google.colab.output.renderOutput(dataTable, element);\n",
              "        const docLink = document.createElement('div');\n",
              "        docLink.innerHTML = docLinkHtml;\n",
              "        element.appendChild(docLink);\n",
              "      }\n",
              "    </script>\n",
              "  </div>\n",
              "\n",
              "\n",
              "<div id=\"df-45b897fd-f1de-4366-a923-5fccd27db59f\">\n",
              "  <button class=\"colab-df-quickchart\" onclick=\"quickchart('df-45b897fd-f1de-4366-a923-5fccd27db59f')\"\n",
              "            title=\"Suggest charts\"\n",
              "            style=\"display:none;\">\n",
              "\n",
              "<svg xmlns=\"http://www.w3.org/2000/svg\" height=\"24px\"viewBox=\"0 0 24 24\"\n",
              "     width=\"24px\">\n",
              "    <g>\n",
              "        <path d=\"M19 3H5c-1.1 0-2 .9-2 2v14c0 1.1.9 2 2 2h14c1.1 0 2-.9 2-2V5c0-1.1-.9-2-2-2zM9 17H7v-7h2v7zm4 0h-2V7h2v10zm4 0h-2v-4h2v4z\"/>\n",
              "    </g>\n",
              "</svg>\n",
              "  </button>\n",
              "\n",
              "<style>\n",
              "  .colab-df-quickchart {\n",
              "      --bg-color: #E8F0FE;\n",
              "      --fill-color: #1967D2;\n",
              "      --hover-bg-color: #E2EBFA;\n",
              "      --hover-fill-color: #174EA6;\n",
              "      --disabled-fill-color: #AAA;\n",
              "      --disabled-bg-color: #DDD;\n",
              "  }\n",
              "\n",
              "  [theme=dark] .colab-df-quickchart {\n",
              "      --bg-color: #3B4455;\n",
              "      --fill-color: #D2E3FC;\n",
              "      --hover-bg-color: #434B5C;\n",
              "      --hover-fill-color: #FFFFFF;\n",
              "      --disabled-bg-color: #3B4455;\n",
              "      --disabled-fill-color: #666;\n",
              "  }\n",
              "\n",
              "  .colab-df-quickchart {\n",
              "    background-color: var(--bg-color);\n",
              "    border: none;\n",
              "    border-radius: 50%;\n",
              "    cursor: pointer;\n",
              "    display: none;\n",
              "    fill: var(--fill-color);\n",
              "    height: 32px;\n",
              "    padding: 0;\n",
              "    width: 32px;\n",
              "  }\n",
              "\n",
              "  .colab-df-quickchart:hover {\n",
              "    background-color: var(--hover-bg-color);\n",
              "    box-shadow: 0 1px 2px rgba(60, 64, 67, 0.3), 0 1px 3px 1px rgba(60, 64, 67, 0.15);\n",
              "    fill: var(--button-hover-fill-color);\n",
              "  }\n",
              "\n",
              "  .colab-df-quickchart-complete:disabled,\n",
              "  .colab-df-quickchart-complete:disabled:hover {\n",
              "    background-color: var(--disabled-bg-color);\n",
              "    fill: var(--disabled-fill-color);\n",
              "    box-shadow: none;\n",
              "  }\n",
              "\n",
              "  .colab-df-spinner {\n",
              "    border: 2px solid var(--fill-color);\n",
              "    border-color: transparent;\n",
              "    border-bottom-color: var(--fill-color);\n",
              "    animation:\n",
              "      spin 1s steps(1) infinite;\n",
              "  }\n",
              "\n",
              "  @keyframes spin {\n",
              "    0% {\n",
              "      border-color: transparent;\n",
              "      border-bottom-color: var(--fill-color);\n",
              "      border-left-color: var(--fill-color);\n",
              "    }\n",
              "    20% {\n",
              "      border-color: transparent;\n",
              "      border-left-color: var(--fill-color);\n",
              "      border-top-color: var(--fill-color);\n",
              "    }\n",
              "    30% {\n",
              "      border-color: transparent;\n",
              "      border-left-color: var(--fill-color);\n",
              "      border-top-color: var(--fill-color);\n",
              "      border-right-color: var(--fill-color);\n",
              "    }\n",
              "    40% {\n",
              "      border-color: transparent;\n",
              "      border-right-color: var(--fill-color);\n",
              "      border-top-color: var(--fill-color);\n",
              "    }\n",
              "    60% {\n",
              "      border-color: transparent;\n",
              "      border-right-color: var(--fill-color);\n",
              "    }\n",
              "    80% {\n",
              "      border-color: transparent;\n",
              "      border-right-color: var(--fill-color);\n",
              "      border-bottom-color: var(--fill-color);\n",
              "    }\n",
              "    90% {\n",
              "      border-color: transparent;\n",
              "      border-bottom-color: var(--fill-color);\n",
              "    }\n",
              "  }\n",
              "</style>\n",
              "\n",
              "  <script>\n",
              "    async function quickchart(key) {\n",
              "      const quickchartButtonEl =\n",
              "        document.querySelector('#' + key + ' button');\n",
              "      quickchartButtonEl.disabled = true;  // To prevent multiple clicks.\n",
              "      quickchartButtonEl.classList.add('colab-df-spinner');\n",
              "      try {\n",
              "        const charts = await google.colab.kernel.invokeFunction(\n",
              "            'suggestCharts', [key], {});\n",
              "      } catch (error) {\n",
              "        console.error('Error during call to suggestCharts:', error);\n",
              "      }\n",
              "      quickchartButtonEl.classList.remove('colab-df-spinner');\n",
              "      quickchartButtonEl.classList.add('colab-df-quickchart-complete');\n",
              "    }\n",
              "    (() => {\n",
              "      let quickchartButtonEl =\n",
              "        document.querySelector('#df-45b897fd-f1de-4366-a923-5fccd27db59f button');\n",
              "      quickchartButtonEl.style.display =\n",
              "        google.colab.kernel.accessAllowed ? 'block' : 'none';\n",
              "    })();\n",
              "  </script>\n",
              "</div>\n",
              "\n",
              "  <div id=\"id_b88b5be7-ebba-4986-ae8d-24882312f4fe\">\n",
              "    <style>\n",
              "      .colab-df-generate {\n",
              "        background-color: #E8F0FE;\n",
              "        border: none;\n",
              "        border-radius: 50%;\n",
              "        cursor: pointer;\n",
              "        display: none;\n",
              "        fill: #1967D2;\n",
              "        height: 32px;\n",
              "        padding: 0 0 0 0;\n",
              "        width: 32px;\n",
              "      }\n",
              "\n",
              "      .colab-df-generate:hover {\n",
              "        background-color: #E2EBFA;\n",
              "        box-shadow: 0px 1px 2px rgba(60, 64, 67, 0.3), 0px 1px 3px 1px rgba(60, 64, 67, 0.15);\n",
              "        fill: #174EA6;\n",
              "      }\n",
              "\n",
              "      [theme=dark] .colab-df-generate {\n",
              "        background-color: #3B4455;\n",
              "        fill: #D2E3FC;\n",
              "      }\n",
              "\n",
              "      [theme=dark] .colab-df-generate:hover {\n",
              "        background-color: #434B5C;\n",
              "        box-shadow: 0px 1px 3px 1px rgba(0, 0, 0, 0.15);\n",
              "        filter: drop-shadow(0px 1px 2px rgba(0, 0, 0, 0.3));\n",
              "        fill: #FFFFFF;\n",
              "      }\n",
              "    </style>\n",
              "    <button class=\"colab-df-generate\" onclick=\"generateWithVariable('data')\"\n",
              "            title=\"Generate code using this dataframe.\"\n",
              "            style=\"display:none;\">\n",
              "\n",
              "  <svg xmlns=\"http://www.w3.org/2000/svg\" height=\"24px\"viewBox=\"0 0 24 24\"\n",
              "       width=\"24px\">\n",
              "    <path d=\"M7,19H8.4L18.45,9,17,7.55,7,17.6ZM5,21V16.75L18.45,3.32a2,2,0,0,1,2.83,0l1.4,1.43a1.91,1.91,0,0,1,.58,1.4,1.91,1.91,0,0,1-.58,1.4L9.25,21ZM18.45,9,17,7.55Zm-12,3A5.31,5.31,0,0,0,4.9,8.1,5.31,5.31,0,0,0,1,6.5,5.31,5.31,0,0,0,4.9,4.9,5.31,5.31,0,0,0,6.5,1,5.31,5.31,0,0,0,8.1,4.9,5.31,5.31,0,0,0,12,6.5,5.46,5.46,0,0,0,6.5,12Z\"/>\n",
              "  </svg>\n",
              "    </button>\n",
              "    <script>\n",
              "      (() => {\n",
              "      const buttonEl =\n",
              "        document.querySelector('#id_b88b5be7-ebba-4986-ae8d-24882312f4fe button.colab-df-generate');\n",
              "      buttonEl.style.display =\n",
              "        google.colab.kernel.accessAllowed ? 'block' : 'none';\n",
              "\n",
              "      buttonEl.onclick = () => {\n",
              "        google.colab.notebook.generateWithVariable('data');\n",
              "      }\n",
              "      })();\n",
              "    </script>\n",
              "  </div>\n",
              "\n",
              "    </div>\n",
              "  </div>\n"
            ],
            "application/vnd.google.colaboratory.intrinsic+json": {
              "type": "dataframe",
              "variable_name": "data"
            }
          },
          "metadata": {},
          "execution_count": 959
        }
      ],
      "source": [
        "data = df1.copy()\n",
        "data"
      ]
    },
    {
      "cell_type": "markdown",
      "metadata": {
        "id": "lcefUOil_D6d"
      },
      "source": [
        "# Dropping and renaming the columns"
      ]
    },
    {
      "cell_type": "code",
      "execution_count": 960,
      "metadata": {
        "id": "hM5bwP3_TIqx"
      },
      "outputs": [],
      "source": [
        "#Removing unnecessary columns from the dataset which are not helpful in solving the problem we have.\n",
        "data = data.drop(columns = [\"NpriID\" ,\"Company name\", \"FacilityName\", \"Cas\", \"Category\", \"NAICSPrimary\",\"Latitude\",\t\"Longitude\", \"Substance comments by category for 2022\", \"Substance comments for disposals and all media for 2022\"])"
      ]
    },
    {
      "cell_type": "code",
      "execution_count": 961,
      "metadata": {
        "id": "cCv2SH_P43Oo"
      },
      "outputs": [],
      "source": [
        "#Giving readable names to the features\n",
        "data =  data.rename(columns = {\"NPRI_Report_ReportYear\": \"Reporting year\",\"Quantity\":\"Quantity of realese\",\"Detail_NPRI_SubstanceInfo_NameEn\": \"Substance name\", \"ProvinceEn\":\"Province\",\"Detail_UnitType_NameEn\": \"Unit\",\"NAICSTitleEn\":\"Industry\"})"
      ]
    },
    {
      "cell_type": "code",
      "execution_count": 962,
      "metadata": {
        "colab": {
          "base_uri": "https://localhost:8080/"
        },
        "id": "75rtBnDUoBPb",
        "outputId": "e1caa5ba-dd37-4902-a089-10a8b0711d35"
      },
      "outputs": [
        {
          "output_type": "execute_result",
          "data": {
            "text/plain": [
              "tonnes    448698\n",
              "kg         84343\n",
              "g TEQ       2508\n",
              "grams       2001\n",
              "Name: Unit, dtype: int64"
            ]
          },
          "metadata": {},
          "execution_count": 962
        }
      ],
      "source": [
        "#Checking for the count of unique value in unit column using value_counts function\n",
        "data[\"Unit\"].value_counts()"
      ]
    },
    {
      "cell_type": "markdown",
      "metadata": {
        "id": "GuG6w0og_hYJ"
      },
      "source": [
        "# Handling the missing values"
      ]
    },
    {
      "cell_type": "markdown",
      "metadata": {
        "id": "b6ysXNhKs7dt"
      },
      "source": [
        "Here we are checking the total null values in each column"
      ]
    },
    {
      "cell_type": "code",
      "execution_count": 963,
      "metadata": {
        "colab": {
          "base_uri": "https://localhost:8080/"
        },
        "id": "SUBWrFXJs1BP",
        "outputId": "c67370bf-4674-47e5-91a2-a3dffe42389a"
      },
      "outputs": [
        {
          "output_type": "execute_result",
          "data": {
            "text/plain": [
              "Reporting year           0\n",
              "Quantity of realese    954\n",
              "Substance name           0\n",
              "Group                    0\n",
              "Province                 0\n",
              "Unit                     0\n",
              "Industry                 0\n",
              "Number of employees    578\n",
              "dtype: int64"
            ]
          },
          "metadata": {},
          "execution_count": 963
        }
      ],
      "source": [
        "data.isnull().sum()"
      ]
    },
    {
      "cell_type": "markdown",
      "metadata": {
        "id": "aeucAGc1tB6-"
      },
      "source": [
        "As we can see that we have missing values in number of employees and quantity column of the dataset"
      ]
    },
    {
      "cell_type": "markdown",
      "metadata": {
        "id": "AXR-O7tkr_Sr"
      },
      "source": [
        "Missing Values, how to handle\n",
        "\n",
        "Option 1: Fill NaN with Mean Value\n",
        "Filling NaNs with the mean value is also not sufficient and naive, and doesn't seems to be a good option.\n",
        "\n",
        "Option 2: Fill NaN with Last Value with .ffill()\n",
        "Filling NaNs with the last value could be bit better.\n",
        "\n",
        "Option 3: Fill NaN with Linearly Interpolated Value with .interpolate()\n",
        "Filling NaNs with the interpolated values is the best option in this small examlple but it requires knowledge of the neighouring value\n",
        "\n"
      ]
    },
    {
      "cell_type": "code",
      "execution_count": 964,
      "metadata": {
        "id": "G3X0YvIMq19N"
      },
      "outputs": [],
      "source": [
        "data['Quantity of realese'] = data['Quantity of realese'].interpolate()\n",
        "data['Number of employees'] = data['Number of employees'].interpolate()"
      ]
    },
    {
      "cell_type": "markdown",
      "metadata": {
        "id": "ASkle6-1q20q"
      },
      "source": [
        "For handling missing values, we are using interpolation.\n",
        "Interpolation in Python is a technique used to estimate unknown data points between two known data points. In Python, Interpolation is a technique mostly used to impute missing values in the data frame or series while preprocessing data."
      ]
    },
    {
      "cell_type": "code",
      "execution_count": 965,
      "metadata": {
        "colab": {
          "base_uri": "https://localhost:8080/"
        },
        "id": "uvQ1t9I7jn1u",
        "outputId": "77689843-7377-4aef-ba8b-9ab2dfc8d316"
      },
      "outputs": [
        {
          "output_type": "execute_result",
          "data": {
            "text/plain": [
              "Reporting year         0\n",
              "Quantity of realese    0\n",
              "Substance name         0\n",
              "Group                  0\n",
              "Province               0\n",
              "Unit                   0\n",
              "Industry               0\n",
              "Number of employees    0\n",
              "dtype: int64"
            ]
          },
          "metadata": {},
          "execution_count": 965
        }
      ],
      "source": [
        "#Checking the shape of the dataset\n",
        "data.isnull().sum()"
      ]
    },
    {
      "cell_type": "markdown",
      "metadata": {
        "id": "ncZ4ycKwzBjU"
      },
      "source": [
        "Now we do not have missing value in any column"
      ]
    },
    {
      "cell_type": "markdown",
      "metadata": {
        "id": "3pDnNqn5vqEv"
      },
      "source": [
        "**Checking the issues in the column's unique values**"
      ]
    },
    {
      "cell_type": "code",
      "execution_count": 966,
      "metadata": {
        "colab": {
          "base_uri": "https://localhost:8080/"
        },
        "id": "DGn5EMMtvpwu",
        "outputId": "a507d433-56ba-4657-d715-0328261a84dd"
      },
      "outputs": [
        {
          "output_type": "execute_result",
          "data": {
            "text/plain": [
              "array(['tonnes', 'kg', 'g TEQ', 'grams'], dtype=object)"
            ]
          },
          "metadata": {},
          "execution_count": 966
        }
      ],
      "source": [
        "# checking for the uniques value in the unit column\n",
        "data[\"Unit\"].unique()"
      ]
    },
    {
      "cell_type": "code",
      "execution_count": 967,
      "metadata": {
        "colab": {
          "base_uri": "https://localhost:8080/"
        },
        "id": "_w1SR99GxSLQ",
        "outputId": "a7979e5a-e684-4feb-8037-c017bb56bfa4"
      },
      "outputs": [
        {
          "output_type": "execute_result",
          "data": {
            "text/plain": [
              "array(['All other miscellaneous wood product manufacturing',\n",
              "       'All other basic inorganic chemical manufacturing',\n",
              "       'Motor vehicle metal stamping', 'Material recovery facilities',\n",
              "       'Other basic organic chemical manufacturing',\n",
              "       'Plastic pipe and pipe fitting manufacturing',\n",
              "       'All other miscellaneous chemical product manufacturing',\n",
              "       'All other miscellaneous manufacturing',\n",
              "       'Plastic plumbing fixture manufacturing',\n",
              "       'Other electric power generation', 'Gold and silver ore mining',\n",
              "       'Cold-rolled steel shape manufacturing',\n",
              "       'Paint and coating manufacturing',\n",
              "       'Commercial bakeries and frozen bakery product manufacturing',\n",
              "       'Coating, engraving, cold and heat treating and allied activities',\n",
              "       'Polystyrene foam product manufacturing',\n",
              "       'Paper bag and coated and treated paper manufacturing',\n",
              "       'Aluminum rolling, drawing, extruding and alloying',\n",
              "       'Truck trailer manufacturing',\n",
              "       'All other non-metallic mineral mining and quarrying',\n",
              "       'Soap and cleaning compound manufacturing',\n",
              "       'Non-ferrous metal (except aluminum) smelting and refining',\n",
              "       'Remediation services',\n",
              "       'Sawmills (except shingle and shake mills)', 'Waferboard mills',\n",
              "       'Non-ferrous foundries (except die-casting)',\n",
              "       'Non-ferrous metal foundries (except die-casting)',\n",
              "       'Turned product and screw, nut and bolt manufacturing', 'Stamping',\n",
              "       'Boat building', 'Non-ferrous metal die-casting foundries',\n",
              "       'Non-ferrous die-casting foundries',\n",
              "       'Other motor vehicle parts manufacturing',\n",
              "       'Other transportation equipment manufacturing',\n",
              "       'Automotive body, paint and interior repair and maintenance',\n",
              "       'All other food manufacturing',\n",
              "       'Motor and generator manufacturing',\n",
              "       'Oil and gas extraction (except oil sands)',\n",
              "       'Conventional oil and gas extraction',\n",
              "       'Medical equipment and supplies manufacturing',\n",
              "       'Motor vehicle plastic parts manufacturing',\n",
              "       'Iron and steel pipes and tubes manufacturing from purchased steel',\n",
              "       'Other metalworking machinery manufacturing',\n",
              "       'Clay building material and refractory manufacturing',\n",
              "       'Technical and trade schools',\n",
              "       'Pharmaceutical and medicine manufacturing',\n",
              "       'All other miscellaneous fabricated metal product manufacturing',\n",
              "       'Other printing', 'Other rubber product manufacturing',\n",
              "       'Motor vehicle seating and interior trim manufacturing',\n",
              "       'Waste treatment and disposal', 'Oilseed processing',\n",
              "       'Flour milling', 'Other animal food manufacturing',\n",
              "       'Asphalt paving mixture and block manufacturing',\n",
              "       'Plastic film and sheet manufacturing',\n",
              "       'All other personal services',\n",
              "       'All other professional, scientific and technical services',\n",
              "       'All other waste management services',\n",
              "       'Oilseed and grain merchant wholesalers',\n",
              "       'Support activities for crop production',\n",
              "       'Mixed fertilizer manufacturing',\n",
              "       'Chemical fertilizer (except potash) manufacturing',\n",
              "       'Potash mining',\n",
              "       'Agricultural chemical and other farm supplies merchant wholesalers',\n",
              "       'Other warehousing and storage',\n",
              "       'Refrigerated warehousing and storage',\n",
              "       'Butter, cheese, and dry and condensed dairy product manufacturing',\n",
              "       'Fluid milk manufacturing',\n",
              "       'Other support activities for air transportation',\n",
              "       'Fossil-fuel electric power generation',\n",
              "       'Industrial gas manufacturing',\n",
              "       'All other general-purpose machinery manufacturing',\n",
              "       'Semiconductor and other electronic component manufacturing',\n",
              "       'Footwear manufacturing',\n",
              "       'Aerospace product and parts manufacturing',\n",
              "       'General (except paediatric) hospitals',\n",
              "       'Sewage treatment facilities', 'Distilleries', 'Newsprint mills',\n",
              "       'Softwood veneer and plywood mills', 'Chemical pulp mills',\n",
              "       'Other petroleum and coal product manufacturing',\n",
              "       'Primary production of alumina and aluminum',\n",
              "       'Urethane and other foam product (except polystyrene) manufacturing',\n",
              "       'Iron and steel mills and ferro-alloy manufacturing',\n",
              "       'Animal (except poultry) slaughtering', 'Beef cattle slaughtering',\n",
              "       'Rendering and meat processing from carcasses',\n",
              "       'Pipeline transportation of natural gas',\n",
              "       'Ready-mix concrete manufacturing', 'Steel foundries',\n",
              "       'All other merchant wholesalers',\n",
              "       'Wood office furniture, including custom architectural woodwork, manufacturing',\n",
              "       'Turbine and turbine generator set unit manufacturing',\n",
              "       'Natural gas distribution',\n",
              "       'Petroleum and petroleum products merchant wholesalers',\n",
              "       'Petroleum, petroleum products, and other hydrocarbons merchant wholesalers',\n",
              "       'All other plastic product manufacturing', 'Iron foundries',\n",
              "       'Machine shops',\n",
              "       'Chemical (except agricultural) and allied product merchant wholesalers',\n",
              "       'All other electrical equipment and component manufacturing',\n",
              "       'Paper (except newsprint) mills',\n",
              "       'Resin and synthetic rubber manufacturing',\n",
              "       'Toilet preparation manufacturing',\n",
              "       'Particle board and fibreboard mills',\n",
              "       'Laminated plastic plate, sheet (except packaging), and shape manufacturing',\n",
              "       'Iron ore mining', 'Steel wire drawing',\n",
              "       'Port and harbour operations',\n",
              "       'Recyclable metal merchant wholesalers', 'Diamond mining',\n",
              "       'Uranium ore mining',\n",
              "       'Dairy and milk products merchant wholesalers',\n",
              "       'Wood preservation', 'Other concrete product manufacturing',\n",
              "       'Concrete pipe, brick and block manufacturing',\n",
              "       'Unlaminated plastic profile shape manufacturing',\n",
              "       'All other non-metallic mineral product manufacturing',\n",
              "       'Non-ferrous metal (except copper and aluminum) rolling, drawing, extruding and alloying',\n",
              "       'Metal window and door manufacturing', 'Adhesive manufacturing',\n",
              "       'Services to oil and gas extraction',\n",
              "       'Sand and gravel mining and quarrying',\n",
              "       'In-situ oil sands extraction', 'Non-conventional oil extraction',\n",
              "       'Limestone mining and quarrying', 'Paperboard mills',\n",
              "       'Gypsum product manufacturing',\n",
              "       'Construction machinery manufacturing',\n",
              "       'Metal valve manufacturing', 'Hog slaughtering',\n",
              "       'All other metal ore mining',\n",
              "       'Motor vehicle transmission and power train parts manufacturing',\n",
              "       'All other textile product mills', 'Textile and fabric finishing',\n",
              "       'Other wood household furniture manufacturing',\n",
              "       'Other plate work and fabricated structural product manufacturing',\n",
              "       'Alkali and chlorine manufacturing',\n",
              "       'Wood kitchen cabinet and counter top manufacturing',\n",
              "       'Power boiler and heat exchanger manufacturing',\n",
              "       'Metal can manufacturing',\n",
              "       'Lumber, plywood and millwork merchant wholesalers',\n",
              "       'Nickel-copper ore mining',\n",
              "       'Chocolate and chocolate confectionery manufacturing from cacao beans',\n",
              "       'Pesticide and other agricultural chemical manufacturing',\n",
              "       'Carpet and rug mills',\n",
              "       'Communication and energy wire and cable manufacturing',\n",
              "       'Office furniture (except wood) manufacturing',\n",
              "       'Cookie and cracker manufacturing',\n",
              "       'Support activities for rail transportation',\n",
              "       'Material handling equipment manufacturing',\n",
              "       'Mining and oil and gas field machinery manufacturing',\n",
              "       'Metal service centres', 'Other farm product merchant wholesalers',\n",
              "       'Structural wood product manufacturing',\n",
              "       'Dog and cat food manufacturing',\n",
              "       'Railroad rolling stock manufacturing',\n",
              "       'Dry cleaning and laundry services (except coin-operated)',\n",
              "       'Highway, street and bridge construction',\n",
              "       'Agricultural implement manufacturing',\n",
              "       'Steam and air-conditioning supply', 'Commercial screen printing',\n",
              "       'Tire manufacturing', 'Hydro-electric power generation',\n",
              "       'Power and communication line and related structures construction',\n",
              "       'Electric bulk power transmission and control',\n",
              "       'Electric power distribution', 'Universities',\n",
              "       'Nuclear electric power generation',\n",
              "       'Farm product warehousing and storage',\n",
              "       'Measuring, medical and controlling devices manufacturing',\n",
              "       'Wood window and door manufacturing', 'Printing ink manufacturing',\n",
              "       'Power, distribution and specialty transformers manufacturing',\n",
              "       'All other machinery, equipment and supplies merchant wholesalers',\n",
              "       'Frozen food manufacturing',\n",
              "       'Other engine and power transmission equipment manufacturing',\n",
              "       'Forging', 'Rice milling and malt manufacturing',\n",
              "       'Prefabricated metal building and component manufacturing',\n",
              "       'Mechanical pulp mills', 'Linen and uniform supply',\n",
              "       'Mainline freight rail transportation',\n",
              "       'Mined oil sands extraction',\n",
              "       'All other converted paper product manufacturing',\n",
              "       'General warehousing and storage',\n",
              "       'Asphalt shingle and coating material manufacturing',\n",
              "       'Water and sewer line and related structures construction',\n",
              "       'Artificial and synthetic fibres and filaments manufacturing',\n",
              "       'Poultry slaughtering and processing', 'Poultry processing',\n",
              "       'Lime manufacturing', 'Other millwork',\n",
              "       'Plastic bag and pouch manufacturing',\n",
              "       'Sanitary paper product manufacturing',\n",
              "       'Computer and peripheral equipment manufacturing',\n",
              "       'Industrial mould manufacturing', 'Copper-zinc ore mining',\n",
              "       'Folding paperboard box manufacturing',\n",
              "       'Petrochemical manufacturing', 'Gypsum mining',\n",
              "       'Ship building and repairing',\n",
              "       'Ice cream and frozen dessert manufacturing',\n",
              "       'Institutional furniture manufacturing', 'Petroleum refineries',\n",
              "       'Rooming and boarding houses',\n",
              "       'Automobile and light-duty motor vehicle manufacturing',\n",
              "       'Other communications equipment manufacturing',\n",
              "       'Marine cargo handling', 'Cement manufacturing',\n",
              "       'Other local, municipal and regional public administration',\n",
              "       'Water supply and irrigation systems', 'Waste collection',\n",
              "       'Custom compounding of purchased resins',\n",
              "       'Coffee and tea manufacturing', 'Bituminous coal mining',\n",
              "       'Subbituminous coal mining',\n",
              "       'All other industrial machinery manufacturing',\n",
              "       'Soft drink and ice manufacturing', 'Lead-zinc ore mining',\n",
              "       'Hardwood veneer and plywood mills', 'Salt mining',\n",
              "       'Pipeline transportation of crude oil',\n",
              "       'Fruit and vegetable canning, pickling and drying',\n",
              "       'Seafood product preparation and packaging',\n",
              "       'Rubber and plastic hose and belting manufacturing',\n",
              "       'Fabric coating',\n",
              "       'Shale, clay and refractory mineral mining and quarrying',\n",
              "       'Sandstone mining and quarrying',\n",
              "       'Upholstered household furniture manufacturing',\n",
              "       'Defence services',\n",
              "       'Copper rolling, drawing, extruding and alloying',\n",
              "       'Motor vehicle brake system manufacturing',\n",
              "       'Support activities for animal production',\n",
              "       'Other ornamental and architectural metal product manufacturing',\n",
              "       'Hardware manufacturing',\n",
              "       'Research and development in the physical, engineering and life sciences',\n",
              "       'All other specialty trade contractors',\n",
              "       'Motor vehicle steering and suspension components (except spring) manufacturing',\n",
              "       'Explosives manufacturing',\n",
              "       'Switchgear and switchboard, and relay and industrial control apparatus manufacturing',\n",
              "       'Commercial and service industry machinery manufacturing',\n",
              "       'Broiler and other meat-type chicken production',\n",
              "       'Motor vehicle electrical and electronic equipment manufacturing',\n",
              "       'Major kitchen appliance manufacturing',\n",
              "       'Wiring device manufacturing',\n",
              "       'Flavouring syrup and concentrate manufacturing',\n",
              "       'Other recyclable material merchant wholesalers',\n",
              "       'Scheduled air transportation',\n",
              "       'Community colleges and C.E.G.E.P.s',\n",
              "       'Mineral, ore and precious metal merchant wholesalers',\n",
              "       'Sugar manufacturing', 'Pump and compressor manufacturing',\n",
              "       'Motor vehicle gasoline engine and engine parts manufacturing',\n",
              "       'Cutlery and hand tool manufacturing',\n",
              "       'Heating equipment and commercial refrigeration equipment manufacturing',\n",
              "       'Navigational and guidance instruments manufacturing',\n",
              "       'Other support activities for mining', 'Testing laboratories',\n",
              "       'Breakfast cereal manufacturing',\n",
              "       'Other paperboard container manufacturing',\n",
              "       'Other metal container manufacturing',\n",
              "       'Other heavy and civil engineering construction',\n",
              "       'Facilities support services', 'Other sport facilities',\n",
              "       'Commercial and industrial machinery and equipment (except automotive and electronic) repair and maintenance',\n",
              "       'Spring (heavy gauge) manufacturing',\n",
              "       'Commercial and institutional building construction',\n",
              "       'Heavy-duty truck manufacturing',\n",
              "       'Structural steel and precast concrete contractors',\n",
              "       'Other food crops grown under cover',\n",
              "       'Industrial and commercial fan and blower and air purification equipment manufacturing',\n",
              "       'Wet corn milling', 'Other airport operations',\n",
              "       'Plastic window and door manufacturing',\n",
              "       'Other support activities for transportation',\n",
              "       'Glass manufacturing', 'Seasoning and dressing manufacturing',\n",
              "       'Radio and television broadcasting and wireless communications equipment manufacturing',\n",
              "       'Ball and roller bearing manufacturing', 'Breweries',\n",
              "       'Granite mining and quarrying',\n",
              "       'Fat and oil refining and blending',\n",
              "       'Motor vehicle body manufacturing',\n",
              "       'Other leather and allied product manufacturing',\n",
              "       'Electronic and precision equipment repair and maintenance',\n",
              "       'Confectionery manufacturing from purchased chocolate',\n",
              "       'Bulk liquids trucking, local',\n",
              "       'Rubber and plastics industry machinery manufacturing',\n",
              "       'Non-chocolate confectionery manufacturing',\n",
              "       'Other major appliance manufacturing',\n",
              "       'Other federal government public administration',\n",
              "       'Other snack food manufacturing', 'Marble mining and quarrying',\n",
              "       'Electric lamp bulb and parts manufacturing',\n",
              "       'Deep sea, coastal and Great Lakes water transportation (except by ferries)',\n",
              "       'Abrasive product manufacturing',\n",
              "       'Lessors of non-residential buildings (except mini-warehouses)',\n",
              "       'All other pipeline transportation',\n",
              "       'Roasted nut and peanut butter manufacturing',\n",
              "       'Glass product manufacturing from purchased glass',\n",
              "       'Oilseed (except soybean) farming', 'Lignite coal mining',\n",
              "       'General freight trucking, local',\n",
              "       'Non-scheduled specialty flying services',\n",
              "       'Short-haul freight rail transportation',\n",
              "       'Logging (except contract)', 'Tobacco product manufacturing',\n",
              "       'Tobacco stemming and redrying', 'Federal police services',\n",
              "       'All other miscellaneous animal production',\n",
              "       'Engineering services', 'Bulk liquids trucking, long distance',\n",
              "       'Federal correctional services', 'Support activities for printing',\n",
              "       'Fibre, yarn and thread mills', 'Other clothing knitting mills',\n",
              "       'Packaging and labelling services', 'Cemeteries and crematoria',\n",
              "       'Clothing accessories and other clothing manufacturing',\n",
              "       'Data processing, hosting, and related services',\n",
              "       'Broad-woven fabric mills', 'Shingle and shake mills',\n",
              "       'Other publishers', 'Metal tank (heavy gauge) manufacturing',\n",
              "       'Urban transit systems', 'Manifold business forms printing',\n",
              "       'Motor home, travel trailer and camper manufacturing',\n",
              "       'Lighting fixture manufacturing',\n",
              "       'Electric lighting equipment manufacturing'], dtype=object)"
            ]
          },
          "metadata": {},
          "execution_count": 967
        }
      ],
      "source": [
        "# checking for the uniques value in the Industry column\n",
        "data[\"Industry\"].unique()"
      ]
    },
    {
      "cell_type": "code",
      "execution_count": 968,
      "metadata": {
        "colab": {
          "base_uri": "https://localhost:8080/"
        },
        "id": "uRNduVWqxUMu",
        "outputId": "4f8ab2d6-bc7c-469f-8c05-659e1636d120"
      },
      "outputs": [
        {
          "output_type": "execute_result",
          "data": {
            "text/plain": [
              "array([2021, 2020, 2019, 2018, 2022, 2017, 2016, 2015, 2014])"
            ]
          },
          "metadata": {},
          "execution_count": 968
        }
      ],
      "source": [
        "# checking for the uniques value in the Reporting year column\n",
        "data[\"Reporting year\"].unique()"
      ]
    },
    {
      "cell_type": "code",
      "execution_count": 969,
      "metadata": {
        "colab": {
          "base_uri": "https://localhost:8080/"
        },
        "id": "ePnCBqOlxXub",
        "outputId": "576c56e4-cd76-4bfc-dd43-d80761b3fc2b"
      },
      "outputs": [
        {
          "output_type": "execute_result",
          "data": {
            "text/plain": [
              "array(['Total particulate matter', 'Carbon monoxide',\n",
              "       'PM10 - Particulate Matter <= 10 Micrometers',\n",
              "       'Nitrogen oxides (expressed as nitrogen dioxide)',\n",
              "       'PM2.5 - Particulate Matter <= 2.5 Micrometers',\n",
              "       'Volatile Organic Compounds (VOCs)', 'Sulphur dioxide',\n",
              "       'Hexavalent chromium (and its compounds)', 'Hydrochloric acid',\n",
              "       'Ammonia (total)', 'n-Hexane', 'Manganese (and its compounds)',\n",
              "       'Formaldehyde', 'Zinc (and its compounds)', 'Acrolein', 'Toluene',\n",
              "       'Mercury (and its compounds)', 'Speciated VOCs (62 substances)',\n",
              "       'Sulphuric acid', '2-Butoxyethanol',\n",
              "       'Aluminum oxide (fibrous forms only)', 'Isopropyl alcohol',\n",
              "       'Styrene', 'Lead (and its compounds)',\n",
              "       'Arsenic (and its compounds)', 'Cadmium (and its compounds)',\n",
              "       'Phosphorus (total)', 'Cobalt (and its compounds)',\n",
              "       'Nitrate ion in solution at pH >= 6.0',\n",
              "       'Selenium (and its compounds)', 'Copper (and its compounds)',\n",
              "       'Cyanides (ionic)', 'Thallium (and its compounds)',\n",
              "       'Nickel (and its compounds)', 'Chromium (and its compounds)',\n",
              "       'Vanadium (and its compounds)', 'Antimony (and its compounds)',\n",
              "       'Silver (and its compounds)', 'Xylene (all isomers)',\n",
              "       'Methyl ethyl ketone', 'Bisphenol A',\n",
              "       'Nonylphenol and its ethoxylates', 'Cyclohexane', 'Methanol',\n",
              "       'Phenol (and its salts)', 'Aluminum (fume or dust only)',\n",
              "       'Acrylic acid (and its salts)', 'Methylenebis(phenylisocyanate)',\n",
              "       'Calcium fluoride', 'Dioxins and furans - total',\n",
              "       'Hexachlorobenzene', 'Acetaldehyde', 'Sodium nitrite',\n",
              "       '1,2,4-Trimethylbenzene', 'Ethylbenzene', 'N-Methyl-2-pyrrolidone',\n",
              "       'Nitric acid', 'Hydrogen sulphide',\n",
              "       'Total reduced sulphur (expressed as hydrogen sulphide)',\n",
              "       'Ethylene glycol', 'Benzene', \"p,p'-Methylenebis(2-chloroaniline)\",\n",
              "       'Toluenediisocyanate (mixed isomers)',\n",
              "       'Diethanolamine (and its salts)', 'Bis(2-ethylhexyl) adipate',\n",
              "       '1,2,4-Trichlorobenzene', 'Tetrachloroethylene',\n",
              "       'Asbestos (friable form only)', 'Hydrogen fluoride',\n",
              "       'Peracetic acid (and its salts)', 'Methyl isobutyl ketone',\n",
              "       'Dichloromethane', 'n-Butyl alcohol',\n",
              "       'Polymeric diphenylmethane diisocyanate',\n",
              "       'Chlorinated alkanes, long-chain, CnHxCl(2n+2–x), 18 ≤ n ≤ 20',\n",
              "       '2-Propanone, reaction products with diphenylamine',\n",
              "       \"1,4-Benzenediamine, N,N'-mixed phenyl and tolyl derivatives\",\n",
              "       'Chlorinated alkanes, medium-chain, CnHxCl(2n+2–x), 14 ≤ n ≤ 17',\n",
              "       'Bis(2-ethylhexyl) phthalate', 'Diphenylamine',\n",
              "       '2-Mercaptobenzothiazole', 'PAHs, total unspeciated',\n",
              "       'Acrylonitrile', 'i-Butyl alcohol', 'Carbon disulphide',\n",
              "       'Phenanthrene', 'Acenaphthylene', 'Pyrene', 'Fluoranthene',\n",
              "       'Anthracene', 'Chlorine dioxide', 'Chrysene', 'Chloroform',\n",
              "       'Fluorene', 'Acenaphthene', 'Benz[a]anthracene', 'Chlorine',\n",
              "       '3-Methylcholanthrene', 'Benzo[b]fluoranthene', 'Benzo[a]pyrene',\n",
              "       'Benzo[k]fluoranthene', 'Benzo[e]pyrene', 'Benzo[ghi]perylene',\n",
              "       'Catechol', '1,2-Dichloroethane', 'Chlorobenzene', '1,3-Butadiene',\n",
              "       'Indeno[1,2,3-cd]pyrene', '7,12-Dimethylbenz[a]anthracene',\n",
              "       'Perylene', 'Dibenz[a,h]anthracene', 'Benzo[j]fluoranthene',\n",
              "       'Carbonyl sulphide', 'Ethylene', 'Dibenz[a,j]acridine',\n",
              "       'Dibenz[a,h]acridine', 'Propylene', 'Naphthalene', 'HCFC-22',\n",
              "       'HCFC-124 (all isomers)', 'HCFC-142b', 'Toluene-2,4-diisocyanate',\n",
              "       'Benzoyl peroxide', 'Methyl methacrylate', 'Cumene',\n",
              "       'Triethylamine', 'Propylene oxide', 'Dibutyl phthalate',\n",
              "       '1-Nitropyrene', '5-Methylchrysene', 'Dibenzo[a,e]fluoranthene',\n",
              "       'Dibenzo[a,e]pyrene', 'Dibenzo[a,l]pyrene', 'Dibenzo[a,i]pyrene',\n",
              "       '7H-Dibenzo[c,g]carbazole', 'Dibenzo[a,h]pyrene',\n",
              "       'Propyl acetate (all isomers)', 'Phthalic anhydride',\n",
              "       'Maleic anhydride', 'Acetonitrile', 'Lithium carbonate',\n",
              "       'Methyl tert-butyl ether', 'n,n-Dimethylformamide', 'Formic acid',\n",
              "       'Quinoline', 'Heavy aromatic solvent naphtha',\n",
              "       'Trimethylbenzene (all isomers excluding 1,2,4-trimethylbenzene)',\n",
              "       'Isoprene', 'Hexane (all isomers excluding n-hexane)',\n",
              "       'Methylcyclopentane', 'Chloromethane', 'Butene (all isomers)',\n",
              "       'Propane', 'tert-Butyl alcohol', 'Dicyclopentadiene',\n",
              "       'Butyl benzyl phthalate', 'Cresol (all isomers, and their salts)',\n",
              "       '1,4-Dioxane', 'Butyl acetate (all isomers)',\n",
              "       'Propylene glycol methyl ether acetate (all isomers)',\n",
              "       'Solvent naphtha light aliphatic',\n",
              "       'Light aromatic solvent naphtha',\n",
              "       'Other glycol ethers and acetates (and their isomers)',\n",
              "       'n-Propanol (n-Propyl alcohol)', 'Hydrotreated heavy naphtha',\n",
              "       'Ethyl acetate', 'Stoddard solvent', 'VM & P naphtha',\n",
              "       'Di-n-octyl phthalate', 'Butyraldehyde', 'sec-Butyl alcohol',\n",
              "       'Propionaldehyde', 'Trichloroethylene', 'Sodium fluoride',\n",
              "       'Molybdenum trioxide', 'Butyl acrylate',\n",
              "       'Octylphenol and its ethoxylates', 'Hydrazine (and its salts)',\n",
              "       'Fluorine', 'Hydrotreated light distillate',\n",
              "       'Solvent naphtha medium aliphatic', 'Ethanol',\n",
              "       \"p,p'-Methylenedianiline\", 'Tetrahydrofuran',\n",
              "       'Naphthenic acid fraction compounds (and their salts)',\n",
              "       'Vinyl acetate', 'Pentane (all isomers)', 'Butane (all isomers)',\n",
              "       'Hexene (all isomers)', 'Octane (all isomers)',\n",
              "       'N-Methylolacrylamide', 'Ethylene oxide', 'Bromine',\n",
              "       '2-Ethoxyethanol', 'Isophorone diisocyanate',\n",
              "       '1,1-Methylenebis(4-isocyanatocyclohexane)', 'Cyclohexanol',\n",
              "       'Aniline (and its salts)', 'Biphenyl',\n",
              "       '2-(2-Methoxyethoxy)ethanol', 'Tetraethyl lead',\n",
              "       'Azo disperse dyes', '2-Methoxyethanol',\n",
              "       'Pyridine (and its salts)', '1,1,2,2-Tetrachloroethane',\n",
              "       'Phosphorus (yellow or white only)', 'p-Dichlorobenzene',\n",
              "       '2-Ethoxyethyl acetate', 'Carbon tetrachloride',\n",
              "       'o-Dichlorobenzene', 'Acetophenone',\n",
              "       '2,6-Di-t-butyl-4-methylphenol', 'Hydroquinone (and its salts)',\n",
              "       'Vinyl chloride', 'Ethylene thiourea', 'Dimethyl phthalate',\n",
              "       'Hydrogen cyanide', 'Epichlorohydrin', 'Ethyl acrylate',\n",
              "       'Acrylamide', 'Acetylene', 'Methyl acrylate',\n",
              "       'HCFC-123 (all isomers)', 'Nitrilotriacetic acid (and its salts)',\n",
              "       'CFC-12', 'Heptane (all isomers)', 'Nitroglycerin',\n",
              "       'Dimethylamine', 'Titanium tetrachloride',\n",
              "       'Chloroacetic acid (and its salts)', 'Toluene-2,6-diisocyanate',\n",
              "       'p-Phenylenediamine (and its salts)',\n",
              "       'N,N-Dimethylaniline (and its salts)', '1,1,2-Trichloroethane',\n",
              "       'Chloroethane', '1,1,1,2-Tetrachloroethane', 'Bromomethane',\n",
              "       'CFC-11', '1,2-Dichloropropane', 'Allyl alcohol',\n",
              "       'Benzyl chloride', 'C.I. Basic Green 4', 'Iron pentacarbonyl',\n",
              "       'Cumene hydroperoxide'], dtype=object)"
            ]
          },
          "metadata": {},
          "execution_count": 969
        }
      ],
      "source": [
        "# checking for the uniques value in the Substance name column\n",
        "data[\"Substance name\"].unique()"
      ]
    },
    {
      "cell_type": "code",
      "execution_count": 970,
      "metadata": {
        "colab": {
          "base_uri": "https://localhost:8080/"
        },
        "id": "DLmjEdSTxZVC",
        "outputId": "62e696eb-461f-48a9-f488-106daeb523c3"
      },
      "outputs": [
        {
          "output_type": "execute_result",
          "data": {
            "text/plain": [
              "array(['Quebec', 'Ontario', 'Saskatchewan', 'British Columbia',\n",
              "       'Manitoba', 'Alberta', 'New Brunswick', 'Nova Scotia', 'Nunavut',\n",
              "       'Newfoundland and Labrador', 'Prince Edward Island', 'Yukon',\n",
              "       'Northwest Territories'], dtype=object)"
            ]
          },
          "metadata": {},
          "execution_count": 970
        }
      ],
      "source": [
        "# checking for the uniques value in the Province column\n",
        "data[\"Province\"].unique()"
      ]
    },
    {
      "cell_type": "markdown",
      "metadata": {
        "id": "TOkgfbkax6Uw"
      },
      "source": [
        "From the above code we can see that there is no unacceptable values in the column"
      ]
    },
    {
      "cell_type": "markdown",
      "metadata": {
        "id": "nJGaRoJZbBX7"
      },
      "source": [
        "# Handling \"Unit\" column and \"Quantity of realese\" column\n",
        "### Addition of new column named as \"Target_column\" and removal of \"Quantity of realese\" column"
      ]
    },
    {
      "cell_type": "markdown",
      "metadata": {
        "id": "rxCuSu_-n7j2"
      },
      "source": [
        "According to the problem, we are trying to solve we will have to predict that which industry will realese most of the gases or realeses. So, quantity of realeses needs to be our target column But the problem is that the values in the **Quantity of realese** column are in different units like kg, grams, tonnes and g TEQ. That is why, we will have to convert all that values into Single unit.\n",
        "\n",
        "Creating a column named as **Target_column** with initial value of **0.0** in each row.\n",
        "After that, converting all the values corresponds to g TEQ, grams and tonnes in the **Quantity of realese** column into kg (kilograms) and filling them in to Target_column.\n",
        "In the next step we will drop the Quantity of realese column as we do not need it anymore because we have made a new column**(Target_column)** with values of same unit."
      ]
    },
    {
      "cell_type": "code",
      "execution_count": 971,
      "metadata": {
        "colab": {
          "base_uri": "https://localhost:8080/"
        },
        "id": "APXZJA68-mvA",
        "outputId": "5595ca11-8817-48e6-91d2-79d8c01621c1"
      },
      "outputs": [
        {
          "output_type": "execute_result",
          "data": {
            "text/plain": [
              "kg    537550\n",
              "Name: Unit, dtype: int64"
            ]
          },
          "metadata": {},
          "execution_count": 971
        }
      ],
      "source": [
        "# making a copy of the dataset for visualization\n",
        "data_visual = data.copy()\n",
        "# converting tonnes, grams, g TEQ to kg and also changing the corresponding values in the quantity of realese column\n",
        "data.loc[(data[\"Unit\"] == \"kg\"), \"Quantity of realese\"] = data[\"Quantity of realese\"]\n",
        "data.loc[(data[\"Unit\"] == \"tonnes\"), \"Quantity of realese\"] = data[\"Quantity of realese\"] * 1000\n",
        "data.loc[(data[\"Unit\"] == \"grams\"), \"Quantity of realese\"] = data[\"Quantity of realese\"] / 1000\n",
        "data.loc[(data[\"Unit\"] == \"g TEQ\"), \"Quantity of realese\"] = data[\"Quantity of realese\"] / 1000\n",
        "data[\"Unit\"] = data[\"Unit\"].replace({\"tonnes\" : \"kg\",\"g TEQ\" : \"kg\",\"grams\" : \"kg\"})\n",
        "data[\"Unit\"].value_counts()\n"
      ]
    },
    {
      "cell_type": "code",
      "execution_count": 972,
      "metadata": {
        "id": "cyAMrXGQUuPQ"
      },
      "outputs": [],
      "source": [
        "# makaing a copy of the data for making box plot because after converting units in kg\n",
        "data_box = data.copy()"
      ]
    },
    {
      "cell_type": "markdown",
      "metadata": {
        "id": "VnWrHlWXg6ag"
      },
      "source": [
        "# **Data visualization**"
      ]
    },
    {
      "cell_type": "markdown",
      "metadata": {
        "id": "RAmNvKU1Scov"
      },
      "source": [
        "* px.pie(): This function creates a pie chart using Plotly Express. we specify the DataFrame containing the data (data), the column for the values ('Quantity of realese'), the column for the category labels ('Province'), and providing a title for the pie chart.\n",
        "* fig.update_traces(): This method updates the properties of the pie chart traces (slices). In this case, it positions the text labels outside the pie slices and specifies the information to be displayed in the labels (percentage and label).\n",
        "* fig.show(): This line displays the pie chart"
      ]
    },
    {
      "cell_type": "code",
      "execution_count": null,
      "metadata": {
        "id": "4DSHOWiYP-Wn"
      },
      "outputs": [],
      "source": [
        "import plotly.express as px\n",
        "# Create a pie chart of Province percentages\n",
        "fig = px.pie(data, values='Quantity of realese', names='Province', title='Percentage of Releases by Province')\n",
        "# Add labels to the pie chart\n",
        "fig.update_traces(textposition='outside', textinfo='percent+label')\n",
        "# Show the pie chart\n",
        "fig.show()\n"
      ]
    },
    {
      "cell_type": "markdown",
      "metadata": {
        "id": "5iv87TOSEKQf"
      },
      "source": [
        "**Making bins of Quantity of realese column**"
      ]
    },
    {
      "cell_type": "markdown",
      "metadata": {
        "id": "zu2U5FB_nDs5"
      },
      "source": [
        "Making the bins of Target_column in the categories of Low, medium, high, and very high."
      ]
    },
    {
      "cell_type": "code",
      "execution_count": null,
      "metadata": {
        "id": "ChES2gnMFWKj"
      },
      "outputs": [],
      "source": [
        "# finding the beggining of the bin\n",
        "data[\"Quantity of realese\"].min()"
      ]
    },
    {
      "cell_type": "code",
      "execution_count": null,
      "metadata": {
        "id": "0ZeqiJGxTufq"
      },
      "outputs": [],
      "source": [
        "# finding the end of the bin\n",
        "data[\"Quantity of realese\"].max()"
      ]
    },
    {
      "cell_type": "code",
      "execution_count": null,
      "metadata": {
        "id": "xLlLgGCsTWWk"
      },
      "outputs": [],
      "source": [
        "import pandas as pd\n",
        "#Creating bins for Target_column\n",
        "bins = [-337320.0, 0.0, 16086629, 24129943.5,4128453559.0]\n",
        "labels = [\"Low\", \"Medium\", \"High\", \"Very High\"]\n",
        "data[\"Quantity of realese\"] = pd.cut(data[\"Quantity of realese\"], bins=bins, labels=labels) #Using cut function from pandas to make bins\n",
        "data[\"Quantity of realese\"] = data[\"Quantity of realese\"].replace({\"Low\" : 0,\"Medium\" : 1,\"High\" : 2,\"Very High\" : 3})\n",
        "data[\"Quantity of realese\"].value_counts()\n"
      ]
    },
    {
      "cell_type": "markdown",
      "metadata": {
        "id": "y4QJhj-B3Dbd"
      },
      "source": [
        "# Data Sepration"
      ]
    },
    {
      "cell_type": "markdown",
      "metadata": {
        "id": "T--mo6sn1W-v"
      },
      "source": [
        "Separating the dataset in to datasets using reoporting year column. One dataset will have data from 2014 to 2021 year and one dataset will have data of 2022 year only"
      ]
    },
    {
      "cell_type": "markdown",
      "metadata": {
        "id": "39eEJs3Q08uE"
      },
      "source": [
        "* **data_2014_2021**: This subset contains rows from data where the \"Reporting\n",
        "year\" is less than 2022, effectively covering the years 2014 to 2021, inclusive.\n",
        "* **data_2022**: This subset contains rows from data where the \"Reporting year\" is equal to 2022, effectively covering only the year 2022.\n",
        "\n",
        "\n",
        "\n",
        "\n"
      ]
    },
    {
      "cell_type": "code",
      "execution_count": null,
      "metadata": {
        "id": "I12uC-4-zZGp"
      },
      "outputs": [],
      "source": [
        "# variable data_2014_2021 have data from 2014 to 2021 year\n",
        "data_2014_2021 = data[data[\"Reporting year\"] < 2022]\n",
        "# variable data_2022 have data of 2022 year\n",
        "data_2022 = data[data[\"Reporting year\"] == 2022]\n",
        "# Getting confirmation using unique function on date_2014_2022 and date_2022 variable to know that our data is seprated.\n",
        "data_2014_2021[\"Reporting year\"].unique()\n",
        "data_2022[\"Reporting year\"].unique()\n",
        "data_2014_2021[\"Industry\"].value_counts()"
      ]
    },
    {
      "cell_type": "markdown",
      "metadata": {
        "id": "8PTIZRc10G1v"
      },
      "source": [
        "# Handling outliers"
      ]
    },
    {
      "cell_type": "markdown",
      "metadata": {
        "id": "46FcFI9oNKH9"
      },
      "source": [
        "* import plotly.express as px: Import the Plotly Express library as px.\n",
        "* px.scatter(): This function creates a scatter plot using Plotly Express."
      ]
    },
    {
      "cell_type": "code",
      "execution_count": null,
      "metadata": {
        "id": "xY7_QZTP6bdA"
      },
      "outputs": [],
      "source": [
        "import plotly.express as px\n",
        "# Create a scatter plot using Plotly Express\n",
        "fig = px.scatter(data_box, x=\"Quantity of realese\", y=\"Number of employees\", color=\"Reporting year\", title=\"Outliers in Number of Employees by Reporting Year\")\n",
        "# Show the plot\n",
        "fig.show()"
      ]
    },
    {
      "cell_type": "markdown",
      "metadata": {
        "id": "PWl5BE9gKgVE"
      },
      "source": [
        "Below we are using plotly for making a box plot to detecting outliers\n",
        "from the box plot we can see that there are some industries with high quantity of realese in 2022 year which are uncommon as compared to other values in other years. So, i am considering these values as outliers."
      ]
    },
    {
      "cell_type": "code",
      "execution_count": null,
      "metadata": {
        "id": "W_yFYRnJ_WWL"
      },
      "outputs": [],
      "source": [
        "import plotly.express as px\n",
        "# Create a box plot using Plotly Express\n",
        "fig = px.box(data_box, x=\"Reporting year\", y=\"Quantity of realese\", title=\"Quantity of realese by Industry\")\n",
        "# Show the plot\n",
        "fig.show()"
      ]
    },
    {
      "cell_type": "markdown",
      "metadata": {
        "id": "HqPFiQmD0-LP"
      },
      "source": [
        "Prediction releases for redemption services in the year 2022."
      ]
    },
    {
      "cell_type": "code",
      "execution_count": null,
      "metadata": {
        "id": "s1VgXXTAYABB"
      },
      "outputs": [],
      "source": [
        "# Creating a dictionary to store dataframes for each industry\n",
        "industry_data = {}\n",
        "# Getting unique industries\n",
        "unique_industries = data_2014_2021[\"Industry\"].unique()\n",
        "# Looping through each industry and creating a dataframe\n",
        "for industry in unique_industries:\n",
        "  industry_data[industry] = data_2014_2021[data_2014_2021[\"Industry\"] == industry]\n",
        "Remediation_services_2014_21 = industry_data[\"Remediation services\"]\n",
        "\n",
        "\n",
        "industry_data_2022 = {}\n",
        "# Getting unique industries\n",
        "unique_industries = data_2022[\"Industry\"].unique()\n",
        "# Looping through each industry and creating a dataframe\n",
        "for industry in unique_industries:\n",
        "  industry_data_2022[industry] = data_2022[data_2022[\"Industry\"] == industry]\n",
        "Remediation_services_2022 = industry_data_2022[\"Remediation services\"]\n",
        "\n",
        "\n",
        "# importing label encoder from sklearn. preprocessing to convert datatype of each column ot numerical values.\n",
        "from sklearn.preprocessing import LabelEncoder\n",
        "# Extracting columns which have object data type\n",
        "cat_cols = [col for col in Remediation_services_2022.columns if Remediation_services_2022[col].dtype == \"object\"  or data[col].dtype == \"category\"]\n",
        "#Running a for loop on each column and converting them to numerical using fir.transform function of label encoder.\n",
        "for col in cat_cols:\n",
        "   Remediation_services_2022[col] = LabelEncoder().fit_transform(Remediation_services_2022[col])\n",
        "Remediation_services_2022\n",
        "\n",
        "# importing label encoder from sklearn. preprocessing to convert datatype of each column ot numerical values.\n",
        "from sklearn.preprocessing import LabelEncoder\n",
        "# Extracting columns which have object data type\n",
        "cat_cols = [col for col in Remediation_services_2014_21.columns if Remediation_services_2014_21[col].dtype == \"object\"  or data[col].dtype == \"category\"]\n",
        "#Running a for loop on each column and converting them to numerical using fir.transform function of label encoder.\n",
        "for col in cat_cols:\n",
        "   Remediation_services_2014_21[col] = LabelEncoder().fit_transform(Remediation_services_2014_21[col])\n"
      ]
    },
    {
      "cell_type": "code",
      "execution_count": null,
      "metadata": {
        "id": "wJAxmP4ee-D-"
      },
      "outputs": [],
      "source": [
        "from sklearn.neighbors import KNeighborsClassifier\n",
        "from sklearn.model_selection import train_test_split\n",
        "from sklearn.metrics import accuracy_score\n",
        "# Splitting the data_Remediation_inverse_14 into training and testing sets\n",
        "X_train23, X_test23, y_train23, y_test23 = train_test_split(Remediation_services_2014_21.drop('Quantity of realese',axis = 1),Remediation_services_2014_21['Quantity of realese'],test_size=0.25,random_state=42\n",
        ")\n",
        "X_train24, X_test24, y_train24, y_test24 = train_test_split(\n",
        "    Remediation_services_2022.drop(\"Quantity of realese\", axis = 1), Remediation_services_2022[\"Quantity of realese\"], test_size = 0.25, random_state = 42)\n",
        "# Creating a KNN classifier\n",
        "knn = KNeighborsClassifier(n_neighbors=3)\n",
        "\n",
        "# Training the model\n",
        "knn.fit(X_train23, y_train23)\n",
        "\n",
        "# Predicting the labels for the test data\n",
        "y_pred24 = knn.predict(X_test24)\n",
        "\n",
        "\n",
        "# Predicting which industry will have high releases in 2022\n",
        "predicted_releases = knn.predict(X_test24)\n",
        "\n",
        "print(\"Oil and gas extraction (except oil sands) will have medium realeses in 2022 year based on its past \",predicted_releases)"
      ]
    },
    {
      "cell_type": "markdown",
      "metadata": {
        "id": "NKhTc7kj1Hcu"
      },
      "source": [
        "Predicting releases for oil and gas extraction (except oil sands)"
      ]
    },
    {
      "cell_type": "code",
      "execution_count": null,
      "metadata": {
        "id": "N6MsCK62x8s1"
      },
      "outputs": [],
      "source": [
        "oil_gas_2014_21 = industry_data[\"Oil and gas extraction (except oil sands)\"]\n",
        "oil_gas_2022 = industry_data_2022[\"Oil and gas extraction (except oil sands)\"]\n",
        "# importing label encoder from sklearn. preprocessing to convert datatype of each column ot numerical values.\n",
        "from sklearn.preprocessing import LabelEncoder\n",
        "# Extracting columns which have object data type\n",
        "cat_cols = [col for col in oil_gas_2014_21.columns if oil_gas_2014_21[col].dtype == \"object\"  or oil_gas_2014_21[col].dtype == \"category\"]\n",
        "#Running a for loop on each column and converting them to numerical using fir.transform function of label encoder.\n",
        "for col in cat_cols:\n",
        "  oil_gas_2014_21[col] = LabelEncoder().fit_transform(oil_gas_2014_21[col])\n",
        "\n",
        "\n",
        "# importing label encoder from sklearn. preprocessing to convert datatype of each column ot numerical values.\n",
        "from sklearn.preprocessing import LabelEncoder\n",
        "# Extracting columns which have object data type\n",
        "cat_cols = [col for col in oil_gas_2022.columns if oil_gas_2022[col].dtype == \"object\"  or oil_gas_2022[col].dtype == \"category\"]\n",
        "#Running a for loop on each column and converting them to numerical using fir.transform function of label encoder.\n",
        "for col in cat_cols:\n",
        "   oil_gas_2022[col] = LabelEncoder().fit_transform(oil_gas_2022[col])\n",
        "\n"
      ]
    },
    {
      "cell_type": "code",
      "execution_count": null,
      "metadata": {
        "id": "ZWzLnSORzTLd"
      },
      "outputs": [],
      "source": [
        "from sklearn.neighbors import KNeighborsClassifier\n",
        "from sklearn.model_selection import train_test_split\n",
        "from sklearn.metrics import accuracy_score\n",
        "# Splitting the data_Remediation_inverse_14 into training and testing sets\n",
        "X_train14, X_test14, y_train14, y_test14 = train_test_split(oil_gas_2014_21.drop('Quantity of realese', axis=1),oil_gas_2014_21['Quantity of realese'],test_size=0.25,random_state=42)\n",
        "X_train22, X_test22, y_train22, y_test22 = train_test_split(oil_gas_2022.drop('Quantity of realese', axis=1), oil_gas_2022['Quantity of realese'],test_size=0.25,random_state=42)\n",
        "\n",
        "# Creating a KNN classifier\n",
        "knn = KNeighborsClassifier(n_neighbors=3)\n",
        "\n",
        "# Training the model\n",
        "knn.fit(X_train14, y_train14)\n",
        "\n",
        "# Predicting the labels for the test data\n",
        "y_pred22 = knn.predict(X_test22)\n",
        "\n",
        "# Evaluating the accuracy of the model\n",
        "accuracy = accuracy_score(y_test22, y_pred22)\n",
        "print('Accuracy:', accuracy)\n",
        "\n",
        "# Predicting which industry will have high releases in 2022\n",
        "predicted_releases = knn.predict(X_test22)\n",
        "print(\"Oil and gas extraction (except oil sands) will have medium realeses in 2022 year based on its past \")"
      ]
    },
    {
      "cell_type": "markdown",
      "metadata": {
        "id": "h3ppA8lP1Qnu"
      },
      "source": [
        "Predicting releases for"
      ]
    },
    {
      "cell_type": "code",
      "execution_count": null,
      "metadata": {
        "id": "VQaCSwab1pT-"
      },
      "outputs": [],
      "source": [
        "Petroleum_refineries_2014_21 = industry_data[\"Petroleum refineries\"]\n",
        "Petroleum_refineries_2022 = industry_data_2022[\"Petroleum refineries\"]\n",
        "# importing label encoder from sklearn. preprocessing to convert datatype of each column ot numerical values.\n",
        "from sklearn.preprocessing import LabelEncoder\n",
        "# Extracting columns which have object data type\n",
        "cat_cols = [col for col in Petroleum_refineries_2014_21.columns if Petroleum_refineries_2014_21[col].dtype == \"object\"  or Petroleum_refineries_2014_21[col].dtype == \"category\"]\n",
        "#Running a for loop on each column and converting them to numerical using fir.transform function of label encoder.\n",
        "for col in cat_cols:\n",
        "  Petroleum_refineries_2014_21[col] = LabelEncoder().fit_transform(Petroleum_refineries_2014_21[col])\n",
        "\n",
        "\n",
        "# importing label encoder from sklearn. preprocessing to convert datatype of each column ot numerical values.\n",
        "from sklearn.preprocessing import LabelEncoder\n",
        "# Extracting columns which have object data type\n",
        "cat_cols = [col for col in Petroleum_refineries_2022.columns if Petroleum_refineries_2022[col].dtype == \"object\"  or Petroleum_refineries_2022[col].dtype == \"category\"]\n",
        "#Running a for loop on each column and converting them to numerical using fir.transform function of label encoder.\n",
        "for col in cat_cols:\n",
        "   Petroleum_refineries_2022[col] = LabelEncoder().fit_transform(Petroleum_refineries_2022[col])\n",
        "\n",
        "from sklearn.neighbors import KNeighborsClassifier\n",
        "from sklearn.model_selection import train_test_split\n",
        "from sklearn.metrics import accuracy_score\n",
        "# Splitting the data_Remediation_inverse_14 into training and testing sets\n",
        "X_train15, X_test15, y_train15, y_test15 = train_test_split(Petroleum_refineries_2014_21.drop('Quantity of realese', axis=1),Petroleum_refineries_2014_21['Quantity of realese'],test_size=0.25,random_state=42)\n",
        "X_train23, X_test23, y_train23, y_test23 = train_test_split(Petroleum_refineries_2022.drop('Quantity of realese', axis=1), Petroleum_refineries_2022['Quantity of realese'],test_size=0.25,random_state=42)\n",
        "\n",
        "# Creating a KNN classifier\n",
        "knn = KNeighborsClassifier(n_neighbors=3)\n",
        "\n",
        "# Training the model\n",
        "knn.fit(X_train15, y_train15)\n",
        "\n",
        "# Predicting the labels for the test data\n",
        "y_pred23 = knn.predict(X_test23)\n",
        "\n",
        "# Evaluating the accuracy of the model\n",
        "accuracy = accuracy_score(y_test23, y_pred23)\n",
        "print('Accuracy:', accuracy)\n",
        "\n",
        "# Predicting which industry will have high releases in 2022\n",
        "predicted_releases = knn.predict(X_test22)\n",
        "print(\"Petroleum refineries will have medium realeses in 2022 year based on its past \")"
      ]
    }
  ],
  "metadata": {
    "colab": {
      "provenance": []
    },
    "kernelspec": {
      "display_name": "Python 3",
      "name": "python3"
    },
    "language_info": {
      "name": "python"
    }
  },
  "nbformat": 4,
  "nbformat_minor": 0
}